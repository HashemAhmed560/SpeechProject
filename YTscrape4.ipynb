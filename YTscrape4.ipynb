{
 "cells": [
  {
   "cell_type": "code",
   "execution_count": 1,
   "metadata": {},
   "outputs": [],
   "source": [
    "#from pytube import YouTube\n",
    "import os\n",
    "import re\n",
    "import unicodedata\n",
    "import whisper\n",
    "import torch\n",
    "\n",
    "from pytubefix import YouTube\n",
    "from youtube_transcript_api import YouTubeTranscriptApi\n",
    "from pytubefix.cli import on_progress\n",
    "from pathlib import Path"
   ]
  },
  {
   "cell_type": "code",
   "execution_count": 2,
   "metadata": {},
   "outputs": [],
   "source": [
    "url = \"https://www.youtube.com/watch?v=_k-F-MMvQV4\"\n",
    "lang = \"en\""
   ]
  },
  {
   "cell_type": "markdown",
   "metadata": {},
   "source": [
    "# download the mp3 file"
   ]
  },
  {
   "cell_type": "code",
   "execution_count": 3,
   "metadata": {},
   "outputs": [
    {
     "name": "stdout",
     "output_type": "stream",
     "text": [
      "title: 10 Programmer Stereotypes\n",
      "length: 308\n",
      " ↳ |████████████████████████████████████████████| 100.0%\r"
     ]
    },
    {
     "data": {
      "text/plain": [
       "'d:\\\\UNI\\\\Year 4 Term 1\\\\speech\\\\project\\\\10 Programmer Stereotypes.mp3'"
      ]
     },
     "execution_count": 3,
     "metadata": {},
     "output_type": "execute_result"
    }
   ],
   "source": [
    "yt = YouTube(url, on_progress_callback = on_progress)\n",
    "print(\"title: \"+yt.title)\n",
    "print(\"length: \"+str(yt.length))\n",
    "\n",
    "ys = yt.streams.get_audio_only()\n",
    "ys.download(mp3=True)"
   ]
  },
  {
   "cell_type": "markdown",
   "metadata": {},
   "source": [
    "# whisper code"
   ]
  },
  {
   "cell_type": "code",
   "execution_count": 4,
   "metadata": {},
   "outputs": [],
   "source": [
    "def transcribe_audio_to_srt(audio_path, output_path=None):\n",
    "    \"\"\"\n",
    "    Transcribe audio file using OpenAI's Whisper model and save as SRT file.\n",
    "\n",
    "    Parameters:\n",
    "    audio_path (str): Path to the audio file\n",
    "    output_path (str, optional): Path to save the SRT file. \n",
    "                                 If None, uses audio filename with .srt extension\n",
    "\n",
    "    Returns:\n",
    "    str: Path to the generated SRT file\n",
    "    \"\"\"\n",
    "    # Check if CUDA is available for GPU acceleration\n",
    "    device = \"cuda\" if torch.cuda.is_available() else \"cpu\"\n",
    "    print(f\"Using device: {device}\")\n",
    "\n",
    "    # Determine output path if not provided\n",
    "    if output_path is None:\n",
    "        output_path = os.path.splitext(audio_path)[0] + \".srt\"\n",
    "\n",
    "    # Load the Whisper model (you can choose different sizes: tiny, base, small, medium, large)\n",
    "    print(\"Loading Whisper model...\")\n",
    "    model = whisper.load_model(\"small\", device=device)\n",
    "\n",
    "    # Load and transcribe the audio file\n",
    "    print(\"Transcribing audio...\")\n",
    "    result = model.transcribe(\n",
    "        audio_path,\n",
    "        language=lang,  # Language specified in global variable\n",
    "        task=\"transcribe\",\n",
    "        fp16=torch.cuda.is_available()  # Use float16 if on GPU\n",
    "    )\n",
    "\n",
    "    # Generate SRT content\n",
    "    srt_content = []\n",
    "    for i, segment in enumerate(result[\"segments\"], 1):\n",
    "        # Convert start and end times to SRT time format\n",
    "        start_time = format_time(segment[\"start\"])\n",
    "        end_time = format_time(segment[\"end\"])\n",
    "        \n",
    "        # Create SRT entry\n",
    "        srt_content.append(str(i))  # Subtitle number\n",
    "        srt_content.append(f\"{start_time} --> {end_time}\")  # Time codes\n",
    "        srt_content.append(segment[\"text\"].strip())  # Subtitle text\n",
    "        srt_content.append(\"\")  # Blank line between entries\n",
    "\n",
    "    # Write SRT file\n",
    "    with open(output_path, 'w', encoding='utf-8') as srt_file:\n",
    "        srt_file.write(\"\\n\".join(srt_content))\n",
    "\n",
    "    print(f\"SRT file saved to: {output_path}\")\n",
    "    return output_path\n",
    "\n",
    "def format_time(seconds):\n",
    "    \"\"\"\n",
    "    Convert seconds to SRT time format (00:00:00,000)\n",
    "    \n",
    "    Parameters:\n",
    "    seconds (float): Time in seconds\n",
    "\n",
    "    Returns:\n",
    "    str: Formatted time string\n",
    "    \"\"\"\n",
    "    # Convert to milliseconds\n",
    "    milliseconds = int((seconds - int(seconds)) * 1000)\n",
    "    \n",
    "    # Convert to hours, minutes, seconds\n",
    "    hours, remainder = divmod(int(seconds), 3600)\n",
    "    minutes, seconds = divmod(remainder, 60)\n",
    "    \n",
    "    return f\"{hours:02d}:{minutes:02d}:{seconds:02d},{milliseconds:03d}\"\n"
   ]
  },
  {
   "cell_type": "markdown",
   "metadata": {},
   "source": [
    "# try downloading YouTube Caption"
   ]
  },
  {
   "cell_type": "code",
   "execution_count": 5,
   "metadata": {},
   "outputs": [
    {
     "name": "stderr",
     "output_type": "stream",
     "text": [
      "C:\\Users\\Hashem Ahmed\\AppData\\Local\\Temp\\ipykernel_29368\\3366458486.py:4: DeprecationWarning: Call to deprecated function get_by_language_code (This object can be treated as a dictionary, i.e. captions['en']).\n",
      "  caption = yt.captions.get_by_language_code(lang) # Specify Arabic language\n"
     ]
    },
    {
     "name": "stdout",
     "output_type": "stream",
     "text": [
      "Using device: cuda\n",
      "Loading Whisper model...\n"
     ]
    },
    {
     "name": "stderr",
     "output_type": "stream",
     "text": [
      "d:\\prog apps\\python\\Lib\\site-packages\\whisper\\__init__.py:150: FutureWarning: You are using `torch.load` with `weights_only=False` (the current default value), which uses the default pickle module implicitly. It is possible to construct malicious pickle data which will execute arbitrary code during unpickling (See https://github.com/pytorch/pytorch/blob/main/SECURITY.md#untrusted-models for more details). In a future release, the default value for `weights_only` will be flipped to `True`. This limits the functions that could be executed during unpickling. Arbitrary objects will no longer be allowed to be loaded via this mode unless they are explicitly allowlisted by the user via `torch.serialization.add_safe_globals`. We recommend you start setting `weights_only=True` for any use case where you don't have full control of the loaded file. Please open an issue on GitHub for any issues related to this experimental feature.\n",
      "  checkpoint = torch.load(fp, map_location=device)\n"
     ]
    },
    {
     "name": "stdout",
     "output_type": "stream",
     "text": [
      "Transcribing audio...\n",
      "SRT file saved to: 10 Programmer Stereotypes.txt\n",
      "\n",
      "Transcription:\n",
      "10 Programmer Stereotypes.txt\n"
     ]
    }
   ],
   "source": [
    "try:\n",
    "    yt = YouTube(url)\n",
    "\n",
    "    caption = yt.captions.get_by_language_code(lang) # Specify Arabic language\n",
    "    caption.save_captions(yt.title+\".srt\")\n",
    "\n",
    "\n",
    "except Exception as e:\n",
    "    audio_file = yt.title+\".mp3\"\n",
    "    output_file = yt.title+\".txt\"\n",
    "\n",
    "    try:\n",
    "        transcript = transcribe_audio_to_srt(audio_file, output_file)\n",
    "        print(\"\\nTranscription:\")\n",
    "        print(transcript)\n",
    "    except Exception as e:\n",
    "        print(f\"An error occurred: {str(e)}\")"
   ]
  },
  {
   "cell_type": "code",
   "execution_count": 15,
   "metadata": {},
   "outputs": [
    {
     "name": "stdout",
     "output_type": "stream",
     "text": [
      "Title: Moustafa Amar - Habeb Hayaty | Official Music Video - HD Version | مصطفى قمر - حبيب حياتى\n",
      "Length: 195 seconds\n",
      "Views: 16549570\n",
      "Author: Mazzika - مزيكا\n",
      "Publish Date: 2011-11-23 06:01:41-08:00\n",
      "Description: Moustafa Amar - Habeb Hayaty | Official Music Video - HD Version | مصطفى قمر - حبيب حياتى\n",
      "#Mostafa_Amar | #Habib_Hayati | #مصطفى_قمر\n",
      "\n",
      "• Lyrics : Amir Teima | امير طعيمة\n",
      "• Composition : Amr Moustafa | عمرو مصطفى\n",
      "• Music Arrangement : Hamid El Shaery | حميد الشاعري\n",
      "\n",
      "Lyrics | كلمات الأغنية : \n",
      " \n",
      "حبيب اه حياتى معاك آه حياتى  \n",
      "معاك وانا انا انا بسهر وبدراى \n",
      "انا انا انا بتزيد نارى \n",
      "اه حياتى معاك اه حياتى معاك\n",
      "كده كده لما انت بتهوانى \n",
      "كده كده تشغلنى وتنسانى \n",
      "يا ساقينى الويل في هواك ومدوب قلبي معاك \n",
      "يا حبيبي ان مش هانساك مش هانساك مش هانساك\n",
      " يا ساقينى الويل في هواك ومدوب قلبي معاك \n",
      "يا حبيبي ان مش هانساك مش هانساك لا لا لا\n",
      "حبيب اه حياتى معاك آه حياتى  \n",
      "معاك وانا انا انا بسهر وبدراى \n",
      "انا انا انا بتزيد نارى \n",
      "اه حياتى معاك اه حياتى معاك\n",
      "كده كده لما انت بتهوانى \n",
      "كده كده تشغلنى وتنسانى \n",
      "ليه ولا مره حضنك بيضمنى \n",
      "يافايتنى كل مره قال ايه بتحبنى \n",
      "ليه ولا مره حضنك بيضمنى \n",
      "يافايتنى كل مره قال ايه بتحبنى \n",
      "قال ايه بتحبنى قال ايه بتحبنى\n",
      "يا ساقينى الويل في هواك ومدوب قلبي معاك \n",
      "يا حبيبي ان مش هانساك مش هانساك لا لا لا\n",
      "حبيب اه حياتى معاك آه حياتى  \n",
      "معاك وانا انا انا بسهر وبدراى \n",
      "انا انا انا بتزيد نارى \n",
      "اه حياتى معاك اه حياتى معاك\n",
      "كده كده لما انت بتهوانى \n",
      "كده كده تشغلنى وتنسانى \n",
      "ليه يا ناسينى حبك بالشكل ده \n",
      "تجرحنى وتواسينى مايبنش عليك كده \n",
      "ليه يا ناسينى حبك بالشكل ده \n",
      "تجرحنى وتواسينى مايبنش عليك كده \n",
      "مايبنش عليك كده مايبنش عليك كده \n",
      "يا ساقينى الويل في هواك ومدوب قلبي معاك \n",
      "يا حبيبي ان مش هانساك مش هانساك لا لا لا لا\n",
      "حبيب اه حياتى معاك آه حياتى  \n",
      "معاك وانا انا انا بسهر وبدراى \n",
      "انا انا انا بتزيد نارى \n",
      "اه حياتى معاك اه حياتى معاك\n",
      "كده كده لما انت بتهوانى \n",
      "كده كده تشغلنى وتنسانى \n",
      "انا انا أه انا انا انا أه\n",
      "انا انا انا بسهر وبدارى انا انا انا بتزيد نارى\n",
      "كده كده أه كده كده اه\n",
      "كده كده لما انت بتهوانى \n",
      "كده كده تشغلنى وتنسانى \n",
      "يا ساقينى الويل في هواك ومدوب قلبي معاك \n",
      "يا حبيبي ان مش هانساك مش هانساك مش هانساك\n",
      "يا ساقينى الويل في هواك ومدوب قلبي معاك \n",
      "يا حبيبي ان مش هانساك مش هانساك لا لا لا لا\n",
      "حبيب حياتى معاك \n",
      "\n",
      "• Digital Stores :\n",
      "\n",
      "• iTunes : https://itunes.apple.com/us/album/hayaty/id770905017?ls=1&app=itunes \n",
      "• Spotify : https://open.spotify.com/album/4qQIQlbIiyWWIiu8Jr6cVX\n",
      "• Deezer : http://www.deezer.com/album/8113666 \n",
      "• Anghami : https://play.anghami.com/song/103514 \n",
      "\n",
      "Subscribe To Mazzika Channel | إشترك علي قناة مزيكا \n",
      "http://bit.ly/Mazzika\n",
      "\n",
      "• New Releases - الجديد من مزيكا \n",
      "http://bit.ly/Mazzika-New-Releases\n",
      "\n",
      "• Follow Mazzika on Social Media : \n",
      "\n",
      "• https://facebook.com/mazzika\n",
      "• https://twitter.com/mazzika\n",
      "• https://instagram.com/mazzika\n",
      "\n",
      "(C) 2014 Mazzika Group. \n",
      "To license this music contact us at license@mazzikagroup.com\n"
     ]
    }
   ],
   "source": [
    "print(f\"Title: {yt.title}\")\n",
    "print(f\"Length: {yt.length} seconds\")\n",
    "print(f\"Views: {yt.views}\")\n",
    "print(f\"Author: {yt.author}\")\n",
    "print(f\"Publish Date: {yt.publish_date}\")\n",
    "print(f\"Description: {yt.description}\")"
   ]
  },
  {
   "cell_type": "code",
   "execution_count": null,
   "metadata": {},
   "outputs": [],
   "source": []
  }
 ],
 "metadata": {
  "kernelspec": {
   "display_name": "Python 3",
   "language": "python",
   "name": "python3"
  },
  "language_info": {
   "codemirror_mode": {
    "name": "ipython",
    "version": 3
   },
   "file_extension": ".py",
   "mimetype": "text/x-python",
   "name": "python",
   "nbconvert_exporter": "python",
   "pygments_lexer": "ipython3",
   "version": "3.11.7"
  }
 },
 "nbformat": 4,
 "nbformat_minor": 2
}
