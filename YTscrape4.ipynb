{
 "cells": [
  {
   "cell_type": "code",
   "execution_count": 10,
   "metadata": {},
   "outputs": [],
   "source": [
    "#from pytube import YouTube\n",
    "import os\n",
    "import yt_dlp\n",
    "import whisper\n",
    "import torch\n",
    "\n",
    "from pytubefix import YouTube\n",
    "from youtube_transcript_api import YouTubeTranscriptApi\n",
    "from pytubefix.cli import on_progress\n",
    "from pathlib import Path"
   ]
  },
  {
   "cell_type": "markdown",
   "metadata": {},
   "source": [
    "# Whisper code"
   ]
  },
  {
   "cell_type": "markdown",
   "metadata": {},
   "source": [
    "### Formating time to srt"
   ]
  },
  {
   "cell_type": "code",
   "execution_count": 13,
   "metadata": {},
   "outputs": [],
   "source": [
    "def format_time(seconds):\n",
    "    \"\"\"\n",
    "    Convert seconds to SRT time format (00:00:00,000)\n",
    "    \n",
    "    Parameters:\n",
    "    seconds (float): Time in seconds\n",
    "\n",
    "    Returns:\n",
    "    str: Formatted time string\n",
    "    \"\"\"\n",
    "    # Convert to milliseconds\n",
    "    milliseconds = int((seconds - int(seconds)) * 1000)\n",
    "    \n",
    "    # Convert to hours, minutes, seconds\n",
    "    hours, remainder = divmod(int(seconds), 3600)\n",
    "    minutes, seconds = divmod(remainder, 60)\n",
    "    \n",
    "    return f\"{hours:02d}:{minutes:02d}:{seconds:02d},{milliseconds:03d}\"\n"
   ]
  },
  {
   "cell_type": "markdown",
   "metadata": {},
   "source": [
    "### Whisper function"
   ]
  },
  {
   "cell_type": "code",
   "execution_count": 14,
   "metadata": {},
   "outputs": [],
   "source": [
    "def transcribe_audio_to_srt(audio_path, output_path=None,lang=\"en\"):\n",
    "    \"\"\"\n",
    "    Transcribe audio file using OpenAI's Whisper model and save as SRT file.\n",
    "\n",
    "    Parameters:\n",
    "    audio_path (str): Path to the audio file\n",
    "    output_path (str, optional): Path to save the SRT file. \n",
    "                                 If None, uses audio filename with .srt extension\n",
    "    lang: the language of the audio and Transcribtion\n",
    "    \n",
    "    Returns:\n",
    "    str: Path to the generated SRT file\n",
    "    \"\"\"\n",
    "    # Check if CUDA is available for GPU acceleration\n",
    "    device = \"cuda\" if torch.cuda.is_available() else \"cpu\"\n",
    "    print(f\"Using device: {device}\")\n",
    "\n",
    "    # Determine output path if not provided\n",
    "    if output_path is None:\n",
    "        output_path = os.path.splitext(audio_path)[0] + \".srt\"\n",
    "\n",
    "    # Load the Whisper model (you can choose different sizes: tiny, base, small, medium, large)\n",
    "    print(\"Loading Whisper model...\")\n",
    "    model = whisper.load_model(\"base\", device=device,)\n",
    "\n",
    "    # Load and transcribe the audio file\n",
    "    print(\"Transcribing audio...\")\n",
    "    print(audio_path)\n",
    "    result = model.transcribe(\n",
    "        str(audio_path),\n",
    "        language=lang,  # Language specified in global variable\n",
    "        task=\"transcribe\",\n",
    "        fp16=torch.cuda.is_available()  # Use float16 if on GPU\n",
    "    )\n",
    "\n",
    "    # Generate SRT content\n",
    "    srt_content = []\n",
    "    for i, segment in enumerate(result[\"segments\"], 1):\n",
    "        # Convert start and end times to SRT time format\n",
    "        start_time = format_time(segment[\"start\"])\n",
    "        end_time = format_time(segment[\"end\"])\n",
    "        \n",
    "        # Create SRT entry\n",
    "        srt_content.append(str(i))  # Subtitle number\n",
    "        srt_content.append(f\"{start_time} --> {end_time}\")  # Time codes\n",
    "        srt_content.append(segment[\"text\"].strip())  # Subtitle text\n",
    "        srt_content.append(\"\")  # Blank line between entries\n",
    "\n",
    "    # Write SRT file\n",
    "    with open(output_path, 'w', encoding='utf-8') as srt_file:\n",
    "        srt_file.write(\"\\n\".join(srt_content))\n",
    "\n",
    "    print(f\"SRT file saved to: {output_path}\")\n",
    "    return output_path\n"
   ]
  },
  {
   "cell_type": "markdown",
   "metadata": {},
   "source": [
    "# New Code"
   ]
  },
  {
   "cell_type": "markdown",
   "metadata": {},
   "source": [
    "### using ty_dlp Bulk Code"
   ]
  },
  {
   "cell_type": "code",
   "execution_count": null,
   "metadata": {},
   "outputs": [],
   "source": [
    "def download_audio_and_srt(query, n=5, audio_dir='audio', subtitle_dir='subtitles', lang=\"en\"):\n",
    "    # Ensure the output directories exist\n",
    "    os.makedirs(audio_dir, exist_ok=True)\n",
    "    os.makedirs(subtitle_dir, exist_ok=True)\n",
    "    \n",
    "    # Set up yt_dlp options\n",
    "    ydl_opts = {\n",
    "        'format': 'bestaudio/best',  # Download best available audio quality\n",
    "        'postprocessors': [{\n",
    "            'key': 'FFmpegExtractAudio',\n",
    "            'preferredcodec': 'mp3',\n",
    "            'preferredquality': '192',\n",
    "        }],\n",
    "        'writesubtitles': True,                    # Try to download subtitles if available\n",
    "        'subtitleslangs': [lang],                  # Download subtitles in specified language\n",
    "        'subtitlesformat': 'srt',                  # Save subtitles as SRT format\n",
    "        'outtmpl': {\n",
    "            'default': f'{audio_dir}/%(title)s.%(ext)s',    # Audio files path\n",
    "            'subtitle': f'{subtitle_dir}/%(title)s.%(ext)s' # Subtitle files path\n",
    "        },\n",
    "        'quiet': True,                             # Disable verbose output\n",
    "    }\n",
    "    \n",
    "    # Search and download the videos\n",
    "    with yt_dlp.YoutubeDL(ydl_opts) as ydl:\n",
    "        search_results = ydl.extract_info(f\"ytsearch{n}:{query}\", download=False)['entries']\n",
    "        \n",
    "        for video in search_results:\n",
    "            print(f\"Processing: {video['title']}\")\n",
    "            audio_path = os.path.join(audio_dir, f\"{video['title']}.mp3\")\n",
    "            subtitle_path = os.path.join(subtitle_dir, f\"{video['title']}.srt\")\n",
    "            print(audio_path)\n",
    "            # Download audio and subtitle\n",
    "            ydl.download([video['webpage_url']])\n",
    "            \n",
    "            # Check if subtitle file exists, if not, transcribe using Whisper\n",
    "            if not os.path.exists(subtitle_path):\n",
    "                print(f\"Subtitle not found for '{video['title']}', transcribing with Whisper...\")\n",
    "                transcribe_audio_to_srt(audio_path, subtitle_path, lang)\n",
    "    \n",
    "    print(\"Download and transcription completed.\")"
   ]
  },
  {
   "cell_type": "markdown",
   "metadata": {},
   "source": [
    "### Starting the code"
   ]
  },
  {
   "cell_type": "code",
   "execution_count": null,
   "metadata": {},
   "outputs": [],
   "source": [
    "# Usage\n",
    "download_audio_and_srt(query=\"Iphone 13\", n=3,lang=\"en\")"
   ]
  },
  {
   "cell_type": "markdown",
   "metadata": {},
   "source": [
    "# Old Code"
   ]
  },
  {
   "cell_type": "code",
   "execution_count": 16,
   "metadata": {},
   "outputs": [],
   "source": [
    "url = \"https://www.youtube.com/watch?v=Xk8kWf8VIFQ\"\n",
    "lang = \"en\""
   ]
  },
  {
   "cell_type": "code",
   "execution_count": 17,
   "metadata": {},
   "outputs": [
    {
     "name": "stdout",
     "output_type": "stream",
     "text": [
      "Title: Omar Marmoush - All Goals And Assists This Season So Far\n",
      "Length: 126\n",
      "Using device: cuda██████████████████████████████| 100.0%\n",
      "Loading Whisper model...\n"
     ]
    },
    {
     "name": "stderr",
     "output_type": "stream",
     "text": [
      "/home/youssef/.miniconda3/lib/python3.12/site-packages/whisper/__init__.py:150: FutureWarning: You are using `torch.load` with `weights_only=False` (the current default value), which uses the default pickle module implicitly. It is possible to construct malicious pickle data which will execute arbitrary code during unpickling (See https://github.com/pytorch/pytorch/blob/main/SECURITY.md#untrusted-models for more details). In a future release, the default value for `weights_only` will be flipped to `True`. This limits the functions that could be executed during unpickling. Arbitrary objects will no longer be allowed to be loaded via this mode unless they are explicitly allowlisted by the user via `torch.serialization.add_safe_globals`. We recommend you start setting `weights_only=True` for any use case where you don't have full control of the loaded file. Please open an issue on GitHub for any issues related to this experimental feature.\n",
      "  checkpoint = torch.load(fp, map_location=device)\n"
     ]
    },
    {
     "name": "stdout",
     "output_type": "stream",
     "text": [
      "Transcribing audio...\n",
      "Omar Marmoush - All Goals And Assists This Season So Far.mp3\n",
      "SRT file saved to: Omar Marmoush - All Goals And Assists This Season So Far.txt\n"
     ]
    }
   ],
   "source": [
    "yt = YouTube(url, on_progress_callback=on_progress)\n",
    "print(\"Title:\", yt.title)\n",
    "print(\"Length:\", str(yt.length))\n",
    "\n",
    "ys = yt.streams.get_audio_only()\n",
    "ys.download(mp3=True)\n",
    "\n",
    "audio_file = yt.title + \".mp3\"\n",
    "output_file = yt.title + \".txt\"\n",
    "\n",
    "try:\n",
    "    transcribe_audio_to_srt(audio_file, output_file)\n",
    "except Exception as e:\n",
    "    print(f\"An error occurred: {str(e)}\")"
   ]
  },
  {
   "cell_type": "markdown",
   "metadata": {},
   "source": [
    "## try downloading YouTube Caption"
   ]
  },
  {
   "cell_type": "code",
   "execution_count": 9,
   "metadata": {},
   "outputs": [
    {
     "ename": "NameError",
     "evalue": "name 'yt' is not defined",
     "output_type": "error",
     "traceback": [
      "\u001b[0;31m---------------------------------------------------------------------------\u001b[0m",
      "\u001b[0;31mNameError\u001b[0m                                 Traceback (most recent call last)",
      "Cell \u001b[0;32mIn[9], line 2\u001b[0m\n\u001b[1;32m      1\u001b[0m \u001b[38;5;28;01mtry\u001b[39;00m:\n\u001b[0;32m----> 2\u001b[0m     yt \u001b[38;5;241m=\u001b[39m \u001b[43mYouTube\u001b[49m(url)\n\u001b[1;32m      4\u001b[0m     caption \u001b[38;5;241m=\u001b[39m yt\u001b[38;5;241m.\u001b[39mcaptions\u001b[38;5;241m.\u001b[39mget_by_language_code(lang) \u001b[38;5;66;03m# Specify Arabic language\u001b[39;00m\n",
      "\u001b[0;31mNameError\u001b[0m: name 'YouTube' is not defined",
      "\nDuring handling of the above exception, another exception occurred:\n",
      "\u001b[0;31mNameError\u001b[0m                                 Traceback (most recent call last)",
      "Cell \u001b[0;32mIn[9], line 9\u001b[0m\n\u001b[1;32m      5\u001b[0m     caption\u001b[38;5;241m.\u001b[39msave_captions(yt\u001b[38;5;241m.\u001b[39mtitle\u001b[38;5;241m+\u001b[39m\u001b[38;5;124m\"\u001b[39m\u001b[38;5;124m.srt\u001b[39m\u001b[38;5;124m\"\u001b[39m)\n\u001b[1;32m      8\u001b[0m \u001b[38;5;28;01mexcept\u001b[39;00m \u001b[38;5;167;01mException\u001b[39;00m \u001b[38;5;28;01mas\u001b[39;00m e:\n\u001b[0;32m----> 9\u001b[0m     audio_file \u001b[38;5;241m=\u001b[39m \u001b[43myt\u001b[49m\u001b[38;5;241m.\u001b[39mtitle\u001b[38;5;241m+\u001b[39m\u001b[38;5;124m\"\u001b[39m\u001b[38;5;124m.mp3\u001b[39m\u001b[38;5;124m\"\u001b[39m\n\u001b[1;32m     10\u001b[0m     output_file \u001b[38;5;241m=\u001b[39m yt\u001b[38;5;241m.\u001b[39mtitle\u001b[38;5;241m+\u001b[39m\u001b[38;5;124m\"\u001b[39m\u001b[38;5;124m.txt\u001b[39m\u001b[38;5;124m\"\u001b[39m\n\u001b[1;32m     12\u001b[0m     \u001b[38;5;28;01mtry\u001b[39;00m:\n",
      "\u001b[0;31mNameError\u001b[0m: name 'yt' is not defined"
     ]
    }
   ],
   "source": [
    "try:\n",
    "    yt = YouTube(url)\n",
    "\n",
    "    caption = yt.captions.get_by_language_code(lang) # Specify Arabic language\n",
    "    caption.save_captions(yt.title+\".srt\")\n",
    "\n",
    "\n",
    "except Exception as e:\n",
    "    audio_file = yt.title+\".mp3\"\n",
    "    output_file = yt.title+\".txt\"\n",
    "\n",
    "    try:\n",
    "        transcript = transcribe_audio_to_srt(audio_file, output_file)\n",
    "        print(\"\\nTranscription:\")\n",
    "        print(transcript)\n",
    "    except Exception as e:\n",
    "        print(f\"An error occurred: {str(e)}\")"
   ]
  },
  {
   "cell_type": "markdown",
   "metadata": {},
   "source": [
    "## meta data"
   ]
  },
  {
   "cell_type": "code",
   "execution_count": null,
   "metadata": {},
   "outputs": [],
   "source": [
    "print(f\"Title: {yt.title}\")\n",
    "print(f\"Length: {yt.length} seconds\")\n",
    "print(f\"Views: {yt.views}\")\n",
    "print(f\"Author: {yt.author}\")\n",
    "print(f\"Publish Date: {yt.publish_date}\")\n",
    "print(f\"Description: {yt.description}\")"
   ]
  }
 ],
 "metadata": {
  "kernelspec": {
   "display_name": "base",
   "language": "python",
   "name": "python3"
  },
  "language_info": {
   "codemirror_mode": {
    "name": "ipython",
    "version": 3
   },
   "file_extension": ".py",
   "mimetype": "text/x-python",
   "name": "python",
   "nbconvert_exporter": "python",
   "pygments_lexer": "ipython3",
   "version": "3.12.2"
  }
 },
 "nbformat": 4,
 "nbformat_minor": 2
}
