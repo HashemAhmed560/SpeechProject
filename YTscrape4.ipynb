{
 "cells": [
  {
   "cell_type": "code",
   "execution_count": 1,
   "metadata": {},
   "outputs": [],
   "source": [
    "#from pytube import YouTube\n",
    "import os\n",
    "import re\n",
    "import unicodedata\n",
    "import whisper\n",
    "import torch\n",
    "\n",
    "from pytubefix import YouTube\n",
    "from youtube_transcript_api import YouTubeTranscriptApi\n",
    "from pytubefix.cli import on_progress\n",
    "from pathlib import Path"
   ]
  },
  {
   "cell_type": "code",
   "execution_count": 2,
   "metadata": {},
   "outputs": [],
   "source": [
    "url = \"https://www.youtube.com/watch?v=_k-F-MMvQV4\"\n",
    "lang = \"en\""
   ]
  },
  {
   "cell_type": "markdown",
   "metadata": {},
   "source": [
    "# download the mp3 file"
   ]
  },
  {
   "cell_type": "code",
   "execution_count": 3,
   "metadata": {},
   "outputs": [
    {
     "name": "stdout",
     "output_type": "stream",
     "text": [
      "title: 10 Programmer Stereotypes\n",
      "length: 308\n",
      " ↳ |████████████████████████████████████████████| 100.0%\r"
     ]
    },
    {
     "data": {
      "text/plain": [
       "'d:\\\\UNI\\\\Year 4 Term 1\\\\speech\\\\project\\\\SpeechProject\\\\10 Programmer Stereotypes.mp3'"
      ]
     },
     "execution_count": 3,
     "metadata": {},
     "output_type": "execute_result"
    }
   ],
   "source": [
    "yt = YouTube(url, on_progress_callback = on_progress)\n",
    "print(\"title: \"+yt.title)\n",
    "print(\"length: \"+str(yt.length))\n",
    "\n",
    "ys = yt.streams.get_audio_only()\n",
    "ys.download(mp3=True)"
   ]
  },
  {
   "cell_type": "markdown",
   "metadata": {},
   "source": [
    "# whisper code"
   ]
  },
  {
   "cell_type": "code",
   "execution_count": 4,
   "metadata": {},
   "outputs": [],
   "source": [
    "def transcribe_audio_to_srt(audio_path, output_path=None):\n",
    "    \"\"\"\n",
    "    Transcribe audio file using OpenAI's Whisper model and save as SRT file.\n",
    "\n",
    "    Parameters:\n",
    "    audio_path (str): Path to the audio file\n",
    "    output_path (str, optional): Path to save the SRT file. \n",
    "                                 If None, uses audio filename with .srt extension\n",
    "\n",
    "    Returns:\n",
    "    str: Path to the generated SRT file\n",
    "    \"\"\"\n",
    "    # Check if CUDA is available for GPU acceleration\n",
    "    device = \"cuda\" if torch.cuda.is_available() else \"cpu\"\n",
    "    print(f\"Using device: {device}\")\n",
    "\n",
    "    # Determine output path if not provided\n",
    "    if output_path is None:\n",
    "        output_path = os.path.splitext(audio_path)[0] + \".srt\"\n",
    "\n",
    "    # Load the Whisper model (you can choose different sizes: tiny, base, small, medium, large)\n",
    "    print(\"Loading Whisper model...\")\n",
    "    model = whisper.load_model(\"small\", device=device)\n",
    "\n",
    "    # Load and transcribe the audio file\n",
    "    print(\"Transcribing audio...\")\n",
    "    result = model.transcribe(\n",
    "        audio_path,\n",
    "        language=lang,  # Language specified in global variable\n",
    "        task=\"transcribe\",\n",
    "        fp16=torch.cuda.is_available()  # Use float16 if on GPU\n",
    "    )\n",
    "\n",
    "    # Generate SRT content\n",
    "    srt_content = []\n",
    "    for i, segment in enumerate(result[\"segments\"], 1):\n",
    "        # Convert start and end times to SRT time format\n",
    "        start_time = format_time(segment[\"start\"])\n",
    "        end_time = format_time(segment[\"end\"])\n",
    "        \n",
    "        # Create SRT entry\n",
    "        srt_content.append(str(i))  # Subtitle number\n",
    "        srt_content.append(f\"{start_time} --> {end_time}\")  # Time codes\n",
    "        srt_content.append(segment[\"text\"].strip())  # Subtitle text\n",
    "        srt_content.append(\"\")  # Blank line between entries\n",
    "\n",
    "    # Write SRT file\n",
    "    with open(output_path, 'w', encoding='utf-8') as srt_file:\n",
    "        srt_file.write(\"\\n\".join(srt_content))\n",
    "\n",
    "    print(f\"SRT file saved to: {output_path}\")\n",
    "    return output_path\n",
    "\n",
    "def format_time(seconds):\n",
    "    \"\"\"\n",
    "    Convert seconds to SRT time format (00:00:00,000)\n",
    "    \n",
    "    Parameters:\n",
    "    seconds (float): Time in seconds\n",
    "\n",
    "    Returns:\n",
    "    str: Formatted time string\n",
    "    \"\"\"\n",
    "    # Convert to milliseconds\n",
    "    milliseconds = int((seconds - int(seconds)) * 1000)\n",
    "    \n",
    "    # Convert to hours, minutes, seconds\n",
    "    hours, remainder = divmod(int(seconds), 3600)\n",
    "    minutes, seconds = divmod(remainder, 60)\n",
    "    \n",
    "    return f\"{hours:02d}:{minutes:02d}:{seconds:02d},{milliseconds:03d}\"\n"
   ]
  },
  {
   "cell_type": "markdown",
   "metadata": {},
   "source": [
    "# try downloading YouTube Caption"
   ]
  },
  {
   "cell_type": "code",
   "execution_count": null,
   "metadata": {},
   "outputs": [],
   "source": [
    "try:\n",
    "    yt = YouTube(url)\n",
    "\n",
    "    caption = yt.captions.get_by_language_code(lang) # Specify Arabic language\n",
    "    caption.save_captions(yt.title+\".srt\")\n",
    "\n",
    "\n",
    "except Exception as e:\n",
    "    audio_file = yt.title+\".mp3\"\n",
    "    output_file = yt.title+\".txt\"\n",
    "\n",
    "    try:\n",
    "        transcript = transcribe_audio_to_srt(audio_file, output_file)\n",
    "        print(\"\\nTranscription:\")\n",
    "        print(transcript)\n",
    "    except Exception as e:\n",
    "        print(f\"An error occurred: {str(e)}\")"
   ]
  }
 ],
 "metadata": {
  "kernelspec": {
   "display_name": "Python 3",
   "language": "python",
   "name": "python3"
  },
  "language_info": {
   "codemirror_mode": {
    "name": "ipython",
    "version": 3
   },
   "file_extension": ".py",
   "mimetype": "text/x-python",
   "name": "python",
   "nbconvert_exporter": "python",
   "pygments_lexer": "ipython3",
   "version": "3.11.7"
  }
 },
 "nbformat": 4,
 "nbformat_minor": 2
}
