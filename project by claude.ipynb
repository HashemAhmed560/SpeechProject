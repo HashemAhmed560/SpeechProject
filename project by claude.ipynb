{
 "cells": [
  {
   "cell_type": "code",
   "execution_count": null,
   "metadata": {},
   "outputs": [],
   "source": [
    "from pathlib import Path\n",
    "from typing import Optional, Dict, Tuple\n",
    "import logging\n",
    "import re\n",
    "import yt_dlp\n",
    "from pytubefix import Search\n",
    "import whisper\n",
    "import torch"
   ]
  },
  {
   "cell_type": "code",
   "execution_count": null,
   "metadata": {},
   "outputs": [],
   "source": [
    "def setup_logging() -> logging.Logger:\n",
    "    \"\"\"Configure and return logger\"\"\"\n",
    "    logging.basicConfig(\n",
    "        level=logging.INFO,\n",
    "        format='%(asctime)s - %(levelname)s - %(message)s'\n",
    "    )\n",
    "    return logging.getLogger(__name__)"
   ]
  },
  {
   "cell_type": "code",
   "execution_count": null,
   "metadata": {},
   "outputs": [],
   "source": [
    "def get_safe_filename(title: str) -> str:\n",
    "    \"\"\"Convert video title to safe filename\"\"\"\n",
    "    return re.sub(r'[^\\w\\-_]', '_', title)"
   ]
  },
  {
   "cell_type": "code",
   "execution_count": null,
   "metadata": {},
   "outputs": [],
   "source": [
    "def setup_yt_dlp_options(output_dir: Path) -> Dict:\n",
    "    \"\"\"Configure yt-dlp download options\"\"\"\n",
    "    return {\n",
    "        'format': 'bestaudio/best',\n",
    "        'postprocessors': [{\n",
    "            'key': 'FFmpegExtractAudio',\n",
    "            'preferredcodec': 'mp3',\n",
    "            'preferredquality': '192',\n",
    "        }],\n",
    "        'quiet': True,\n",
    "        'outtmpl': str(output_dir / '%(title)s.%(ext)s'),\n",
    "    }"
   ]
  },
  {
   "cell_type": "code",
   "execution_count": null,
   "metadata": {},
   "outputs": [],
   "source": [
    "def format_timestamp(seconds: float) -> str:\n",
    "    \"\"\"Convert seconds to SRT timestamp format (HH:MM:SS,mmm)\"\"\"\n",
    "    hours = int(seconds // 3600)\n",
    "    minutes = int((seconds % 3600) // 60)\n",
    "    secs = int(seconds % 60)\n",
    "    millisecs = int((seconds - int(seconds)) * 1000)\n",
    "    return f\"{hours:02d}:{minutes:02d}:{secs:02d},{millisecs:03d}\""
   ]
  },
  {
   "cell_type": "code",
   "execution_count": null,
   "metadata": {},
   "outputs": [],
   "source": [
    "def create_srt_content(segments: list) -> str:\n",
    "    \"\"\"Generate SRT formatted content from transcript segments\"\"\"\n",
    "    srt_parts = []\n",
    "    for i, segment in enumerate(segments, 1):\n",
    "        start = format_timestamp(segment[\"start\"])\n",
    "        end = format_timestamp(segment[\"end\"])\n",
    "        text = segment[\"text\"].strip()\n",
    "        srt_parts.append(f\"{i}\\n{start} --> {end}\\n{text}\\n\")\n",
    "    return \"\\n\".join(srt_parts)"
   ]
  },
  {
   "cell_type": "code",
   "execution_count": null,
   "metadata": {},
   "outputs": [],
   "source": [
    "def download_audio(video_url: str, video_title: str, output_dir: Path, logger: logging.Logger) -> Path:\n",
    "    \"\"\"Download audio from YouTube video\"\"\"\n",
    "    logger.info(f\"Downloading audio for: {video_title}\")\n",
    "    \n",
    "    ydl_opts = setup_yt_dlp_options(output_dir)\n",
    "    with yt_dlp.YoutubeDL(ydl_opts) as ydl:\n",
    "        ydl.download([video_url])\n",
    "    \n",
    "    # Find the downloaded file\n",
    "    audio_file = next(output_dir.glob(f\"{get_safe_filename(video_title)}*.mp3\"))\n",
    "    return audio_file"
   ]
  },
  {
   "cell_type": "code",
   "execution_count": null,
   "metadata": {},
   "outputs": [],
   "source": [
    "def get_youtube_captions(video, language: str) -> Optional[str]:\n",
    "    \"\"\"Attempt to get YouTube's own captions\"\"\"\n",
    "    if not video.captions:\n",
    "        return None\n",
    "        \n",
    "    for caption in video.captions:\n",
    "        if caption.code == language:\n",
    "            return caption.generate_srt_captions()\n",
    "    return None"
   ]
  },
  {
   "cell_type": "code",
   "execution_count": null,
   "metadata": {},
   "outputs": [],
   "source": [
    "def transcribe_with_whisper(\n",
    "    audio_path: Path,\n",
    "    model: whisper.Whisper,\n",
    "    language: str,\n",
    "    logger: logging.Logger\n",
    ") -> str:\n",
    "    \"\"\"Generate transcription using Whisper\"\"\"\n",
    "    logger.info(f\"Generating transcription with Whisper for: {audio_path.name}\")\n",
    "    \n",
    "    result = model.transcribe(\n",
    "        str(audio_path),\n",
    "        language=language,\n",
    "        task=\"transcribe\",\n",
    "        fp16=torch.cuda.is_available()\n",
    "    )\n",
    "    \n",
    "    return create_srt_content(result[\"segments\"])"
   ]
  },
  {
   "cell_type": "code",
   "execution_count": null,
   "metadata": {},
   "outputs": [],
   "source": [
    "def process_video(\n",
    "    video,\n",
    "    output_dir: Path,\n",
    "    whisper_model: whisper.Whisper,\n",
    "    language: str,\n",
    "    logger: logging.Logger\n",
    ") -> Tuple[bool, Optional[str]]:\n",
    "    \"\"\"Process a single video: download audio and generate transcription\"\"\"\n",
    "    try:\n",
    "        video_title = video.title\n",
    "        safe_title = get_safe_filename(video_title)\n",
    "        \n",
    "        # Download audio\n",
    "        audio_path = download_audio(video.watch_url, video_title, output_dir, logger)\n",
    "        \n",
    "        # Try YouTube captions first\n",
    "        transcription = get_youtube_captions(video, language)\n",
    "        source = \"YouTube\"\n",
    "        \n",
    "        # Fall back to Whisper if needed\n",
    "        if not transcription:\n",
    "            transcription = transcribe_with_whisper(audio_path, whisper_model, language, logger)\n",
    "            source = \"Whisper\"\n",
    "        \n",
    "        # Save transcription\n",
    "        srt_path = output_dir / f\"{safe_title}.srt\"\n",
    "        srt_path.write_text(transcription)\n",
    "        logger.info(f\"Saved {source} transcription to: {srt_path}\")\n",
    "        \n",
    "        return True, None\n",
    "        \n",
    "    except Exception as e:\n",
    "        error_msg = f\"Error processing video {video_title}: {str(e)}\"\n",
    "        logger.error(error_msg)\n",
    "        return False, error_msg"
   ]
  },
  {
   "cell_type": "code",
   "execution_count": null,
   "metadata": {},
   "outputs": [],
   "source": [
    "def process_query(\n",
    "    query: str,\n",
    "    num_videos: int = 1,\n",
    "    output_dir: str = \"outputs\",\n",
    "    whisper_model_size: str = \"base\",\n",
    "    language: str = \"en\"\n",
    ") -> None:\n",
    "    \"\"\"\n",
    "    Process YouTube search query and generate transcriptions for matching videos\n",
    "    \n",
    "    Args:\n",
    "        query: Search term for YouTube videos\n",
    "        num_videos: Number of videos to process\n",
    "        output_dir: Directory to save outputs\n",
    "        whisper_model_size: Size of Whisper model to use (\"base\", \"medium\", \"large\")\n",
    "        language: Language code for transcription\n",
    "    \"\"\"\n",
    "    # Setup\n",
    "    logger = setup_logging()\n",
    "    output_path = Path(output_dir)\n",
    "    output_path.mkdir(exist_ok=True)\n",
    "    \n",
    "    # Initialize Whisper\n",
    "    device = \"cuda\" if torch.cuda.is_available() else \"cpu\"\n",
    "    logger.info(f\"Using device: {device}\")\n",
    "    model = whisper.load_model(whisper_model_size, device=device)\n",
    "    \n",
    "    # Search for videos\n",
    "    logger.info(f\"Searching for: {query}\")\n",
    "    search = Search(query)\n",
    "    if not search.videos:\n",
    "        logger.error(\"No videos found for query\")\n",
    "        return\n",
    "    \n",
    "    # Process videos\n",
    "    successful = 0\n",
    "    failed = 0\n",
    "    errors = []\n",
    "    \n",
    "    for video in search.videos[:num_videos]:\n",
    "        success, error = process_video(\n",
    "            video=video,\n",
    "            output_dir=output_path,\n",
    "            whisper_model=model,\n",
    "            language=language,\n",
    "            logger=logger\n",
    "        )\n",
    "        if success:\n",
    "            successful += 1\n",
    "        else:\n",
    "            failed += 1\n",
    "            errors.append(error)\n",
    "    \n",
    "    # Log summary\n",
    "    logger.info(f\"Processing complete. Successful: {successful}, Failed: {failed}\")\n",
    "    if errors:\n",
    "        logger.info(\"Errors encountered:\")\n",
    "        for error in errors:\n",
    "            logger.error(error)"
   ]
  },
  {
   "cell_type": "code",
   "execution_count": null,
   "metadata": {},
   "outputs": [],
   "source": [
    "def main():\n",
    "    # Example usage\n",
    "    process_query(\n",
    "        query=\"mac mini\",\n",
    "        num_videos=3,\n",
    "        output_dir=\"youtube_outputs\",\n",
    "        whisper_model_size=\"base\",\n",
    "        language=\"en\"\n",
    "    )"
   ]
  },
  {
   "cell_type": "code",
   "execution_count": null,
   "metadata": {},
   "outputs": [],
   "source": [
    "if __name__ == \"__main__\":\n",
    "    main()"
   ]
  }
 ],
 "metadata": {
  "kernelspec": {
   "display_name": "base",
   "language": "python",
   "name": "python3"
  },
  "language_info": {
   "name": "python",
   "version": "3.12.2"
  }
 },
 "nbformat": 4,
 "nbformat_minor": 2
}
